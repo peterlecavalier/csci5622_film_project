{
 "cells": [
  {
   "cell_type": "code",
   "execution_count": 142,
   "metadata": {},
   "outputs": [],
   "source": [
    "import pandas as pd\n",
    "import numpy as np\n",
    "from sklearn.naive_bayes import MultinomialNB\n",
    "from sklearn.feature_extraction.text import TfidfVectorizer\n",
    "from sklearn.pipeline import make_pipeline\n",
    "from sklearn.metrics import confusion_matrix, ConfusionMatrixDisplay, accuracy_score, precision_recall_fscore_support\n",
    "from sklearn.feature_extraction.text import CountVectorizer,TfidfVectorizer\n",
    "from sklearn.model_selection import train_test_split\n",
    "import string\n",
    "import matplotlib.pyplot as plt"
   ]
  },
  {
   "attachments": {},
   "cell_type": "markdown",
   "metadata": {},
   "source": [
    "# Data Preparation"
   ]
  },
  {
   "cell_type": "code",
   "execution_count": 143,
   "metadata": {},
   "outputs": [
    {
     "data": {
      "text/plain": [
       "Index(['budget', 'genres', 'id', 'imdb_id', 'original_title', 'overview',\n",
       "       'popularity', 'poster_path', 'release_date', 'revenue', 'runtime',\n",
       "       'spoken_languages', 'tagline', 'title', 'vote_average', 'vote_count',\n",
       "       'log_popularity', 'title_length', 'num_languages', 'num_genres',\n",
       "       'imdb_rating', 'imdb_budget', 'imdb_revenue', 'budget_currency',\n",
       "       'revenue_currency', 'converted_budget', 'converted_revenue',\n",
       "       'combined_budget', 'combined_revenue'],\n",
       "      dtype='object')"
      ]
     },
     "execution_count": 143,
     "metadata": {},
     "output_type": "execute_result"
    }
   ],
   "source": [
    "df = pd.read_csv(\"./data/nan_removed_cleaned_data.csv\")\n",
    "df.columns"
   ]
  },
  {
   "attachments": {},
   "cell_type": "markdown",
   "metadata": {},
   "source": [
    "For this Naive Bayes example, it will be interesting to classify whether a film will be a box office hit or flop based on the overview of the film.\n",
    "\n",
    "Let's separate our data so we are only focusing on the variables at hand here.\n",
    "\n",
    "This will be `overview`, `combined_budget`, and `combined_revenue`:"
   ]
  },
  {
   "cell_type": "code",
   "execution_count": 144,
   "metadata": {},
   "outputs": [
    {
     "data": {
      "text/plain": [
       "16012"
      ]
     },
     "metadata": {},
     "output_type": "display_data"
    },
    {
     "data": {
      "text/plain": [
       "4438"
      ]
     },
     "metadata": {},
     "output_type": "display_data"
    }
   ],
   "source": [
    "# Select specific columns\n",
    "df = df[['overview', 'combined_budget', 'combined_revenue']]\n",
    "display(df.shape[0])\n",
    "\n",
    "# We only want data where we have an overview, and combined budget/revenue data:\n",
    "df = df[df['overview'].notna()]\n",
    "df = df[df['combined_budget'].notna()]\n",
    "df = df[df['combined_revenue'].notna()]\n",
    "df = df[df['combined_revenue'] != 0]\n",
    "\n",
    "display(df.shape[0])"
   ]
  },
  {
   "attachments": {},
   "cell_type": "markdown",
   "metadata": {},
   "source": [
    "Cool! We only lost a couple hundred rows by removing the missing values from these columns.\n",
    "\n",
    "Next, to form data for supervised learning, we need labeled data. In this case our labels will be binary, distingushing between box office success and failure:"
   ]
  },
  {
   "cell_type": "code",
   "execution_count": 145,
   "metadata": {},
   "outputs": [
    {
     "data": {
      "text/html": [
       "<div>\n",
       "<style scoped>\n",
       "    .dataframe tbody tr th:only-of-type {\n",
       "        vertical-align: middle;\n",
       "    }\n",
       "\n",
       "    .dataframe tbody tr th {\n",
       "        vertical-align: top;\n",
       "    }\n",
       "\n",
       "    .dataframe thead th {\n",
       "        text-align: right;\n",
       "    }\n",
       "</style>\n",
       "<table border=\"1\" class=\"dataframe\">\n",
       "  <thead>\n",
       "    <tr style=\"text-align: right;\">\n",
       "      <th></th>\n",
       "      <th>overview</th>\n",
       "      <th>combined_budget</th>\n",
       "      <th>combined_revenue</th>\n",
       "      <th>labels</th>\n",
       "    </tr>\n",
       "  </thead>\n",
       "  <tbody>\n",
       "    <tr>\n",
       "      <th>0</th>\n",
       "      <td>Timo Novotny labels his new project an experim...</td>\n",
       "      <td>8.013003e+04</td>\n",
       "      <td>1871.0</td>\n",
       "      <td>0</td>\n",
       "    </tr>\n",
       "    <tr>\n",
       "      <th>1</th>\n",
       "      <td>Nemo, an adventurous young clownfish, is unexp...</td>\n",
       "      <td>9.400000e+07</td>\n",
       "      <td>940986748.0</td>\n",
       "      <td>1</td>\n",
       "    </tr>\n",
       "    <tr>\n",
       "      <th>2</th>\n",
       "      <td>Lester Burnham, a depressed suburban father in...</td>\n",
       "      <td>1.500000e+07</td>\n",
       "      <td>356296601.0</td>\n",
       "      <td>1</td>\n",
       "    </tr>\n",
       "    <tr>\n",
       "      <th>3</th>\n",
       "      <td>Selma, a Czech immigrant on the verge of blind...</td>\n",
       "      <td>1.280000e+07</td>\n",
       "      <td>40046516.0</td>\n",
       "      <td>1</td>\n",
       "    </tr>\n",
       "    <tr>\n",
       "      <th>4</th>\n",
       "      <td>In an attempt to pull her family together, Adè...</td>\n",
       "      <td>5.302639e+06</td>\n",
       "      <td>6593579.0</td>\n",
       "      <td>1</td>\n",
       "    </tr>\n",
       "    <tr>\n",
       "      <th>5</th>\n",
       "      <td>In 2257, a taxi driver is unintentionally give...</td>\n",
       "      <td>9.150000e+07</td>\n",
       "      <td>263920180.0</td>\n",
       "      <td>1</td>\n",
       "    </tr>\n",
       "    <tr>\n",
       "      <th>6</th>\n",
       "      <td>A fatally ill mother with only two months to l...</td>\n",
       "      <td>2.353900e+06</td>\n",
       "      <td>11040927.0</td>\n",
       "      <td>1</td>\n",
       "    </tr>\n",
       "    <tr>\n",
       "      <th>7</th>\n",
       "      <td>Bruce Brown's The Endless Summer is one of the...</td>\n",
       "      <td>5.000000e+04</td>\n",
       "      <td>10233.0</td>\n",
       "      <td>0</td>\n",
       "    </tr>\n",
       "    <tr>\n",
       "      <th>8</th>\n",
       "      <td>Jack Sparrow, a freewheeling 18th-century pira...</td>\n",
       "      <td>1.400000e+08</td>\n",
       "      <td>654637619.5</td>\n",
       "      <td>1</td>\n",
       "    </tr>\n",
       "    <tr>\n",
       "      <th>9</th>\n",
       "      <td>An assassin is shot by her ruthless employer, ...</td>\n",
       "      <td>3.000000e+07</td>\n",
       "      <td>180906076.0</td>\n",
       "      <td>1</td>\n",
       "    </tr>\n",
       "  </tbody>\n",
       "</table>\n",
       "</div>"
      ],
      "text/plain": [
       "                                            overview  combined_budget  \\\n",
       "0  Timo Novotny labels his new project an experim...     8.013003e+04   \n",
       "1  Nemo, an adventurous young clownfish, is unexp...     9.400000e+07   \n",
       "2  Lester Burnham, a depressed suburban father in...     1.500000e+07   \n",
       "3  Selma, a Czech immigrant on the verge of blind...     1.280000e+07   \n",
       "4  In an attempt to pull her family together, Adè...     5.302639e+06   \n",
       "5  In 2257, a taxi driver is unintentionally give...     9.150000e+07   \n",
       "6  A fatally ill mother with only two months to l...     2.353900e+06   \n",
       "7  Bruce Brown's The Endless Summer is one of the...     5.000000e+04   \n",
       "8  Jack Sparrow, a freewheeling 18th-century pira...     1.400000e+08   \n",
       "9  An assassin is shot by her ruthless employer, ...     3.000000e+07   \n",
       "\n",
       "   combined_revenue  labels  \n",
       "0            1871.0       0  \n",
       "1       940986748.0       1  \n",
       "2       356296601.0       1  \n",
       "3        40046516.0       1  \n",
       "4         6593579.0       1  \n",
       "5       263920180.0       1  \n",
       "6        11040927.0       1  \n",
       "7           10233.0       0  \n",
       "8       654637619.5       1  \n",
       "9       180906076.0       1  "
      ]
     },
     "metadata": {},
     "output_type": "display_data"
    },
    {
     "data": {
      "text/plain": [
       "1    2242\n",
       "0    2196\n",
       "Name: labels, dtype: int64"
      ]
     },
     "metadata": {},
     "output_type": "display_data"
    }
   ],
   "source": [
    "def box_office_success(row):\n",
    "    if row['combined_budget'] < row['combined_revenue']:\n",
    "        return 1\n",
    "    else:\n",
    "        return 0\n",
    "\n",
    "df['labels'] = df.apply(box_office_success, axis=1)\n",
    "\n",
    "display(df.head(10))\n",
    "\n",
    "display(df['labels'].value_counts())\n"
   ]
  },
  {
   "attachments": {},
   "cell_type": "markdown",
   "metadata": {},
   "source": [
    "Great, now we have a separation of values.\n",
    "\n",
    "Next, we want to clean our text so it doesn't include any punctuation:"
   ]
  },
  {
   "cell_type": "code",
   "execution_count": 146,
   "metadata": {},
   "outputs": [
    {
     "data": {
      "text/html": [
       "<div>\n",
       "<style scoped>\n",
       "    .dataframe tbody tr th:only-of-type {\n",
       "        vertical-align: middle;\n",
       "    }\n",
       "\n",
       "    .dataframe tbody tr th {\n",
       "        vertical-align: top;\n",
       "    }\n",
       "\n",
       "    .dataframe thead th {\n",
       "        text-align: right;\n",
       "    }\n",
       "</style>\n",
       "<table border=\"1\" class=\"dataframe\">\n",
       "  <thead>\n",
       "    <tr style=\"text-align: right;\">\n",
       "      <th></th>\n",
       "      <th>text_clean</th>\n",
       "      <th>labels</th>\n",
       "    </tr>\n",
       "  </thead>\n",
       "  <tbody>\n",
       "    <tr>\n",
       "      <th>0</th>\n",
       "      <td>Timo Novotny labels his new project an experim...</td>\n",
       "      <td>0</td>\n",
       "    </tr>\n",
       "    <tr>\n",
       "      <th>1</th>\n",
       "      <td>Nemo an adventurous young clownfish is unexpec...</td>\n",
       "      <td>1</td>\n",
       "    </tr>\n",
       "    <tr>\n",
       "      <th>2</th>\n",
       "      <td>Lester Burnham a depressed suburban father in ...</td>\n",
       "      <td>1</td>\n",
       "    </tr>\n",
       "    <tr>\n",
       "      <th>3</th>\n",
       "      <td>Selma a Czech immigrant on the verge of blindn...</td>\n",
       "      <td>1</td>\n",
       "    </tr>\n",
       "    <tr>\n",
       "      <th>4</th>\n",
       "      <td>In an attempt to pull her family together Adèl...</td>\n",
       "      <td>1</td>\n",
       "    </tr>\n",
       "    <tr>\n",
       "      <th>5</th>\n",
       "      <td>In 2257 a taxi driver is unintentionally given...</td>\n",
       "      <td>1</td>\n",
       "    </tr>\n",
       "    <tr>\n",
       "      <th>6</th>\n",
       "      <td>A fatally ill mother with only two months to l...</td>\n",
       "      <td>1</td>\n",
       "    </tr>\n",
       "    <tr>\n",
       "      <th>7</th>\n",
       "      <td>Bruce Browns The Endless Summer is one of the ...</td>\n",
       "      <td>0</td>\n",
       "    </tr>\n",
       "    <tr>\n",
       "      <th>8</th>\n",
       "      <td>Jack Sparrow a freewheeling 18thcentury pirate...</td>\n",
       "      <td>1</td>\n",
       "    </tr>\n",
       "    <tr>\n",
       "      <th>9</th>\n",
       "      <td>An assassin is shot by her ruthless employer B...</td>\n",
       "      <td>1</td>\n",
       "    </tr>\n",
       "  </tbody>\n",
       "</table>\n",
       "</div>"
      ],
      "text/plain": [
       "                                          text_clean  labels\n",
       "0  Timo Novotny labels his new project an experim...       0\n",
       "1  Nemo an adventurous young clownfish is unexpec...       1\n",
       "2  Lester Burnham a depressed suburban father in ...       1\n",
       "3  Selma a Czech immigrant on the verge of blindn...       1\n",
       "4  In an attempt to pull her family together Adèl...       1\n",
       "5  In 2257 a taxi driver is unintentionally given...       1\n",
       "6  A fatally ill mother with only two months to l...       1\n",
       "7  Bruce Browns The Endless Summer is one of the ...       0\n",
       "8  Jack Sparrow a freewheeling 18thcentury pirate...       1\n",
       "9  An assassin is shot by her ruthless employer B...       1"
      ]
     },
     "execution_count": 146,
     "metadata": {},
     "output_type": "execute_result"
    }
   ],
   "source": [
    "def remove_punct(text):\n",
    "    text_new = \"\".join([c for c in text if c not in string.punctuation])\n",
    "    return text_new\n",
    "\n",
    "df['text_clean'] = df['overview'].apply(lambda x: remove_punct(x))\n",
    "df[['text_clean', 'labels']].head(10)"
   ]
  },
  {
   "attachments": {},
   "cell_type": "markdown",
   "metadata": {},
   "source": [
    "For most machine learning techniques (including this one), we need to separate our data into a training and testing set."
   ]
  },
  {
   "cell_type": "code",
   "execution_count": 147,
   "metadata": {},
   "outputs": [
    {
     "name": "stdout",
     "output_type": "stream",
     "text": [
      "3550 training, 888 testing\n"
     ]
    }
   ],
   "source": [
    "#Splitting x and y\n",
    "x = df['text_clean'].values\n",
    "y = df['labels'].values\n",
    "\n",
    "# Separate into train and test\n",
    "x_train, x_test, y_train, y_test = train_test_split(x, y, test_size=0.2, random_state=1600)\n",
    "\n",
    "print(f'{len(x_train)} training, {len(x_test)} testing')"
   ]
  },
  {
   "attachments": {},
   "cell_type": "markdown",
   "metadata": {},
   "source": [
    "Perfect! Now we can apply Naive Bayes to this data."
   ]
  },
  {
   "attachments": {},
   "cell_type": "markdown",
   "metadata": {},
   "source": [
    "# Naive Bayes"
   ]
  },
  {
   "attachments": {},
   "cell_type": "markdown",
   "metadata": {},
   "source": [
    "First, we want to set up a model that can vectorize/tokenize our text data for use in the Naive Bayes algorithm.\n",
    "\n",
    "After that, we can fit our model to the training data:"
   ]
  },
  {
   "cell_type": "code",
   "execution_count": 148,
   "metadata": {},
   "outputs": [
    {
     "data": {
      "text/html": [
       "<style>#sk-container-id-16 {color: black;background-color: white;}#sk-container-id-16 pre{padding: 0;}#sk-container-id-16 div.sk-toggleable {background-color: white;}#sk-container-id-16 label.sk-toggleable__label {cursor: pointer;display: block;width: 100%;margin-bottom: 0;padding: 0.3em;box-sizing: border-box;text-align: center;}#sk-container-id-16 label.sk-toggleable__label-arrow:before {content: \"▸\";float: left;margin-right: 0.25em;color: #696969;}#sk-container-id-16 label.sk-toggleable__label-arrow:hover:before {color: black;}#sk-container-id-16 div.sk-estimator:hover label.sk-toggleable__label-arrow:before {color: black;}#sk-container-id-16 div.sk-toggleable__content {max-height: 0;max-width: 0;overflow: hidden;text-align: left;background-color: #f0f8ff;}#sk-container-id-16 div.sk-toggleable__content pre {margin: 0.2em;color: black;border-radius: 0.25em;background-color: #f0f8ff;}#sk-container-id-16 input.sk-toggleable__control:checked~div.sk-toggleable__content {max-height: 200px;max-width: 100%;overflow: auto;}#sk-container-id-16 input.sk-toggleable__control:checked~label.sk-toggleable__label-arrow:before {content: \"▾\";}#sk-container-id-16 div.sk-estimator input.sk-toggleable__control:checked~label.sk-toggleable__label {background-color: #d4ebff;}#sk-container-id-16 div.sk-label input.sk-toggleable__control:checked~label.sk-toggleable__label {background-color: #d4ebff;}#sk-container-id-16 input.sk-hidden--visually {border: 0;clip: rect(1px 1px 1px 1px);clip: rect(1px, 1px, 1px, 1px);height: 1px;margin: -1px;overflow: hidden;padding: 0;position: absolute;width: 1px;}#sk-container-id-16 div.sk-estimator {font-family: monospace;background-color: #f0f8ff;border: 1px dotted black;border-radius: 0.25em;box-sizing: border-box;margin-bottom: 0.5em;}#sk-container-id-16 div.sk-estimator:hover {background-color: #d4ebff;}#sk-container-id-16 div.sk-parallel-item::after {content: \"\";width: 100%;border-bottom: 1px solid gray;flex-grow: 1;}#sk-container-id-16 div.sk-label:hover label.sk-toggleable__label {background-color: #d4ebff;}#sk-container-id-16 div.sk-serial::before {content: \"\";position: absolute;border-left: 1px solid gray;box-sizing: border-box;top: 0;bottom: 0;left: 50%;z-index: 0;}#sk-container-id-16 div.sk-serial {display: flex;flex-direction: column;align-items: center;background-color: white;padding-right: 0.2em;padding-left: 0.2em;position: relative;}#sk-container-id-16 div.sk-item {position: relative;z-index: 1;}#sk-container-id-16 div.sk-parallel {display: flex;align-items: stretch;justify-content: center;background-color: white;position: relative;}#sk-container-id-16 div.sk-item::before, #sk-container-id-16 div.sk-parallel-item::before {content: \"\";position: absolute;border-left: 1px solid gray;box-sizing: border-box;top: 0;bottom: 0;left: 50%;z-index: -1;}#sk-container-id-16 div.sk-parallel-item {display: flex;flex-direction: column;z-index: 1;position: relative;background-color: white;}#sk-container-id-16 div.sk-parallel-item:first-child::after {align-self: flex-end;width: 50%;}#sk-container-id-16 div.sk-parallel-item:last-child::after {align-self: flex-start;width: 50%;}#sk-container-id-16 div.sk-parallel-item:only-child::after {width: 0;}#sk-container-id-16 div.sk-dashed-wrapped {border: 1px dashed gray;margin: 0 0.4em 0.5em 0.4em;box-sizing: border-box;padding-bottom: 0.4em;background-color: white;}#sk-container-id-16 div.sk-label label {font-family: monospace;font-weight: bold;display: inline-block;line-height: 1.2em;}#sk-container-id-16 div.sk-label-container {text-align: center;}#sk-container-id-16 div.sk-container {/* jupyter's `normalize.less` sets `[hidden] { display: none; }` but bootstrap.min.css set `[hidden] { display: none !important; }` so we also need the `!important` here to be able to override the default hidden behavior on the sphinx rendered scikit-learn.org. See: https://github.com/scikit-learn/scikit-learn/issues/21755 */display: inline-block !important;position: relative;}#sk-container-id-16 div.sk-text-repr-fallback {display: none;}</style><div id=\"sk-container-id-16\" class=\"sk-top-container\"><div class=\"sk-text-repr-fallback\"><pre>Pipeline(steps=[(&#x27;tfidfvectorizer&#x27;, TfidfVectorizer(stop_words=&#x27;english&#x27;)),\n",
       "                (&#x27;multinomialnb&#x27;, MultinomialNB())])</pre><b>In a Jupyter environment, please rerun this cell to show the HTML representation or trust the notebook. <br />On GitHub, the HTML representation is unable to render, please try loading this page with nbviewer.org.</b></div><div class=\"sk-container\" hidden><div class=\"sk-item sk-dashed-wrapped\"><div class=\"sk-label-container\"><div class=\"sk-label sk-toggleable\"><input class=\"sk-toggleable__control sk-hidden--visually\" id=\"sk-estimator-id-46\" type=\"checkbox\" ><label for=\"sk-estimator-id-46\" class=\"sk-toggleable__label sk-toggleable__label-arrow\">Pipeline</label><div class=\"sk-toggleable__content\"><pre>Pipeline(steps=[(&#x27;tfidfvectorizer&#x27;, TfidfVectorizer(stop_words=&#x27;english&#x27;)),\n",
       "                (&#x27;multinomialnb&#x27;, MultinomialNB())])</pre></div></div></div><div class=\"sk-serial\"><div class=\"sk-item\"><div class=\"sk-estimator sk-toggleable\"><input class=\"sk-toggleable__control sk-hidden--visually\" id=\"sk-estimator-id-47\" type=\"checkbox\" ><label for=\"sk-estimator-id-47\" class=\"sk-toggleable__label sk-toggleable__label-arrow\">TfidfVectorizer</label><div class=\"sk-toggleable__content\"><pre>TfidfVectorizer(stop_words=&#x27;english&#x27;)</pre></div></div></div><div class=\"sk-item\"><div class=\"sk-estimator sk-toggleable\"><input class=\"sk-toggleable__control sk-hidden--visually\" id=\"sk-estimator-id-48\" type=\"checkbox\" ><label for=\"sk-estimator-id-48\" class=\"sk-toggleable__label sk-toggleable__label-arrow\">MultinomialNB</label><div class=\"sk-toggleable__content\"><pre>MultinomialNB()</pre></div></div></div></div></div></div></div>"
      ],
      "text/plain": [
       "Pipeline(steps=[('tfidfvectorizer', TfidfVectorizer(stop_words='english')),\n",
       "                ('multinomialnb', MultinomialNB())])"
      ]
     },
     "execution_count": 148,
     "metadata": {},
     "output_type": "execute_result"
    }
   ],
   "source": [
    "nb_model = make_pipeline(TfidfVectorizer(stop_words=\"english\"), MultinomialNB())\n",
    "nb_model.fit(x_train, y_train)"
   ]
  },
  {
   "attachments": {},
   "cell_type": "markdown",
   "metadata": {},
   "source": [
    "And we can calculate metrics for our Naive Bayes performance on the test set"
   ]
  },
  {
   "cell_type": "code",
   "execution_count": 149,
   "metadata": {},
   "outputs": [
    {
     "name": "stdout",
     "output_type": "stream",
     "text": [
      "\n",
      "The confusion matrix is:\n"
     ]
    },
    {
     "data": {
      "image/png": "[encoded data removed]",
      "text/plain": [
       "<Figure size 640x480 with 2 Axes>"
      ]
     },
     "metadata": {},
     "output_type": "display_data"
    },
    {
     "name": "stdout",
     "output_type": "stream",
     "text": [
      "Metrics for Test Data\n",
      "---------------------\n",
      "Accuracy: 0.5822072072072072\n",
      "Precision:\n",
      "    ->Flop: 0.5817757009345794\n",
      "    ->Success: 0.5826086956521739\n",
      "Recall:\n",
      "    ->Flop: 0.564625850340136\n",
      "    ->Success: 0.5995525727069351\n",
      "F1 Score:\n",
      "    ->Flop: 0.5730724971231299\n",
      "    ->Success: 0.5909592061742006\n",
      "Support:\n",
      "    ->Flop: 441\n",
      "    ->Success: 447\n"
     ]
    }
   ],
   "source": [
    "class_names = ['Flop', 'Success']\n",
    "# Show the predictions from the NB on the test set\n",
    "test_pred = nb_model.predict(x_test)\n",
    "\n",
    "# Show the confusion matrix\n",
    "bn_matrix = confusion_matrix(y_test, test_pred)\n",
    "print(\"\\nThe confusion matrix is:\")\n",
    "disp = ConfusionMatrixDisplay(bn_matrix, display_labels=class_names)\n",
    "disp.plot()\n",
    "plt.savefig('./imgs/nb_ims/confusion_matrix.png')\n",
    "plt.show()\n",
    "\n",
    "# Print out metrics\n",
    "print(\"Metrics for Test Data\")\n",
    "print(\"---------------------\")\n",
    "print(f\"Accuracy: {accuracy_score(y_test, test_pred)}\")\n",
    "\n",
    "test_prec, test_recall, test_f1, test_support = precision_recall_fscore_support(y_test, test_pred)\n",
    "print(\"Precision:\")\n",
    "for idx, i in enumerate(class_names):\n",
    "    print(f\"    ->{i}: {test_prec[idx]}\")\n",
    "\n",
    "print(\"Recall:\")\n",
    "for idx, i in enumerate(class_names):\n",
    "    print(f\"    ->{i}: {test_recall[idx]}\")\n",
    "\n",
    "print(\"F1 Score:\")\n",
    "for idx, i in enumerate(class_names):\n",
    "    print(f\"    ->{i}: {test_f1[idx]}\")\n",
    "\n",
    "print(\"Support:\")\n",
    "for idx, i in enumerate(class_names):\n",
    "    print(f\"    ->{i}: {test_support[idx]}\")"
   ]
  }
 ],
 "metadata": {
  "kernelspec": {
   "display_name": "Python 3",
   "language": "python",
   "name": "python3"
  },
  "language_info": {
   "codemirror_mode": {
    "name": "ipython",
    "version": 3
   },
   "file_extension": ".py",
   "mimetype": "text/x-python",
   "name": "python",
   "nbconvert_exporter": "python",
   "pygments_lexer": "ipython3",
   "version": "3.10.11"
  },
  "orig_nbformat": 4
 },
 "nbformat": 4,
 "nbformat_minor": 2
}
